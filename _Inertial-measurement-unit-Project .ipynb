{
 "cells": [
  {
   "cell_type": "markdown",
   "id": "d4270fd9",
   "metadata": {},
   "source": [
    "## Introduction"
   ]
  },
  {
   "cell_type": "markdown",
   "id": "3c46573f",
   "metadata": {},
   "source": [
    "* An inertial measurement unit (IMU) measures and reports raw or filtered angular rate and specific force/acceleration experienced by the object it is attached to. Data outputs for an IMU are typically body-frame accelerations, angular rates, and (optionally) magnetic field measurements."
   ]
  },
  {
   "cell_type": "markdown",
   "id": "6a4a927a",
   "metadata": {},
   "source": [
    "* The columns of the dataset are:\n",
    "\n",
    "1. Category: The category to which this IMU belongs.\n",
    "\n",
    "2. Manufacturer: Name of the manufacturer.\n",
    "\n",
    "3. part number: Discrete part number\n",
    "\n",
    "4. sku: stock keeping unit\n",
    "\n",
    "5. alt_sku: alternate stock keeping unit\n",
    "\n",
    "6. Description: description of the product\n",
    "\n",
    "7. Status: Whether it is in stock or not\n",
    "\n",
    "8. Quantity: Quantity available\n",
    "\n",
    "9. Price: Price of the product\n",
    "\n",
    "10. sku_create_date: when was the product procured"
   ]
  },
  {
   "cell_type": "markdown",
   "id": "bd044529",
   "metadata": {},
   "source": [
    "## Pandas Data Analysis"
   ]
  },
  {
   "cell_type": "code",
   "execution_count": 19,
   "id": "fc877902",
   "metadata": {},
   "outputs": [],
   "source": [
    "# importing all required libraries\n",
    "import os\n",
    "# Data Manipulation\n",
    "import numpy as np\n",
    "import pandas as pd\n",
    "import datetime as dt\n",
    "# Data Visualization\n",
    "from matplotlib import pyplot as plt\n",
    "import seaborn as sns\n",
    "import missingno as msno"
   ]
  },
  {
   "cell_type": "markdown",
   "id": "76ea4f57",
   "metadata": {},
   "source": [
    "* Here i Imported all required libraries,Those are needs for our data manipulation and data vizulization."
   ]
  },
  {
   "cell_type": "code",
   "execution_count": 20,
   "id": "799730e6",
   "metadata": {},
   "outputs": [],
   "source": [
    "# Importing dataset\n",
    "imus = pd.concat(pd.read_excel(\"imus+(2).xlsx\", sheet_name=None), ignore_index=True)"
   ]
  },
  {
   "cell_type": "markdown",
   "id": "a6f25c53",
   "metadata": {},
   "source": [
    "## Basic Exploration"
   ]
  },
  {
   "cell_type": "code",
   "execution_count": 21,
   "id": "f7348443",
   "metadata": {},
   "outputs": [
    {
     "data": {
      "text/html": [
       "<div>\n",
       "<style scoped>\n",
       "    .dataframe tbody tr th:only-of-type {\n",
       "        vertical-align: middle;\n",
       "    }\n",
       "\n",
       "    .dataframe tbody tr th {\n",
       "        vertical-align: top;\n",
       "    }\n",
       "\n",
       "    .dataframe thead th {\n",
       "        text-align: right;\n",
       "    }\n",
       "</style>\n",
       "<table border=\"1\" class=\"dataframe\">\n",
       "  <thead>\n",
       "    <tr style=\"text-align: right;\">\n",
       "      <th></th>\n",
       "      <th>category</th>\n",
       "      <th>manufacturer</th>\n",
       "      <th>part_number</th>\n",
       "      <th>sku</th>\n",
       "      <th>alt_sku</th>\n",
       "      <th>description</th>\n",
       "      <th>status</th>\n",
       "      <th>qty</th>\n",
       "      <th>price</th>\n",
       "      <th>sku_create_date</th>\n",
       "    </tr>\n",
       "  </thead>\n",
       "  <tbody>\n",
       "    <tr>\n",
       "      <th>0</th>\n",
       "      <td>1539</td>\n",
       "      <td>MS-OPEN VALUE SUBSCRIPTION</td>\n",
       "      <td>021-09108</td>\n",
       "      <td>BA0011</td>\n",
       "      <td>NaN</td>\n",
       "      <td>1YR OFFICESTD ALNG LICSAPK OLV, D AP</td>\n",
       "      <td>No Stock</td>\n",
       "      <td>0</td>\n",
       "      <td>143.58</td>\n",
       "      <td>2020-08-17</td>\n",
       "    </tr>\n",
       "    <tr>\n",
       "      <th>1</th>\n",
       "      <td>1539</td>\n",
       "      <td>MS-OPEN VALUE SUBSCRIPTION</td>\n",
       "      <td>059-07014</td>\n",
       "      <td>BA0025</td>\n",
       "      <td>NaN</td>\n",
       "      <td>1YR WORD ALNG LICSAPK OLV D AP,</td>\n",
       "      <td>No Stock</td>\n",
       "      <td>0</td>\n",
       "      <td>56.09</td>\n",
       "      <td>2020-08-17</td>\n",
       "    </tr>\n",
       "    <tr>\n",
       "      <th>2</th>\n",
       "      <td>1539</td>\n",
       "      <td>MS-OPEN VALUE SUBSCRIPTION</td>\n",
       "      <td>065-06444</td>\n",
       "      <td>BA0039</td>\n",
       "      <td>NaN</td>\n",
       "      <td>1YR EXCEL ALNG LICSAPK OLV D AP,</td>\n",
       "      <td>No Stock</td>\n",
       "      <td>0</td>\n",
       "      <td>56.09</td>\n",
       "      <td>2020-08-17</td>\n",
       "    </tr>\n",
       "    <tr>\n",
       "      <th>3</th>\n",
       "      <td>1539</td>\n",
       "      <td>MS-OPEN VALUE SUBSCRIPTION</td>\n",
       "      <td>076-04355</td>\n",
       "      <td>BA0067</td>\n",
       "      <td>NaN</td>\n",
       "      <td>1YR PRJCT ALNG LICSAPK OLV D AP,</td>\n",
       "      <td>No Stock</td>\n",
       "      <td>0</td>\n",
       "      <td>217.60</td>\n",
       "      <td>2020-08-17</td>\n",
       "    </tr>\n",
       "    <tr>\n",
       "      <th>4</th>\n",
       "      <td>1582</td>\n",
       "      <td>MS-OPEN VALUE SUBSCRIPTION</td>\n",
       "      <td>077-05318</td>\n",
       "      <td>BA0080</td>\n",
       "      <td>NaN</td>\n",
       "      <td>1YR ACCESS ALNG LICSAPK OLV D, AP</td>\n",
       "      <td>No Stock</td>\n",
       "      <td>0</td>\n",
       "      <td>56.09</td>\n",
       "      <td>2020-08-17</td>\n",
       "    </tr>\n",
       "  </tbody>\n",
       "</table>\n",
       "</div>"
      ],
      "text/plain": [
       "   category                manufacturer part_number     sku alt_sku  \\\n",
       "0      1539  MS-OPEN VALUE SUBSCRIPTION   021-09108  BA0011     NaN   \n",
       "1      1539  MS-OPEN VALUE SUBSCRIPTION   059-07014  BA0025     NaN   \n",
       "2      1539  MS-OPEN VALUE SUBSCRIPTION   065-06444  BA0039     NaN   \n",
       "3      1539  MS-OPEN VALUE SUBSCRIPTION   076-04355  BA0067     NaN   \n",
       "4      1582  MS-OPEN VALUE SUBSCRIPTION   077-05318  BA0080     NaN   \n",
       "\n",
       "                            description    status  qty   price sku_create_date  \n",
       "0  1YR OFFICESTD ALNG LICSAPK OLV, D AP  No Stock    0  143.58      2020-08-17  \n",
       "1       1YR WORD ALNG LICSAPK OLV D AP,  No Stock    0   56.09      2020-08-17  \n",
       "2      1YR EXCEL ALNG LICSAPK OLV D AP,  No Stock    0   56.09      2020-08-17  \n",
       "3      1YR PRJCT ALNG LICSAPK OLV D AP,  No Stock    0  217.60      2020-08-17  \n",
       "4     1YR ACCESS ALNG LICSAPK OLV D, AP  No Stock    0   56.09      2020-08-17  "
      ]
     },
     "execution_count": 21,
     "metadata": {},
     "output_type": "execute_result"
    }
   ],
   "source": [
    "# First five rows of the dataset\n",
    "imus.head()"
   ]
  },
  {
   "cell_type": "markdown",
   "id": "3798d3d8",
   "metadata": {},
   "source": [
    "* Here i used the head() function i want to see first five observations of the Dataset.Because i want to Understand how Data is distributed at the Starting of Table."
   ]
  },
  {
   "cell_type": "code",
   "execution_count": 22,
   "id": "c6d62fb4",
   "metadata": {},
   "outputs": [
    {
     "data": {
      "text/html": [
       "<div>\n",
       "<style scoped>\n",
       "    .dataframe tbody tr th:only-of-type {\n",
       "        vertical-align: middle;\n",
       "    }\n",
       "\n",
       "    .dataframe tbody tr th {\n",
       "        vertical-align: top;\n",
       "    }\n",
       "\n",
       "    .dataframe thead th {\n",
       "        text-align: right;\n",
       "    }\n",
       "</style>\n",
       "<table border=\"1\" class=\"dataframe\">\n",
       "  <thead>\n",
       "    <tr style=\"text-align: right;\">\n",
       "      <th></th>\n",
       "      <th>category</th>\n",
       "      <th>manufacturer</th>\n",
       "      <th>part_number</th>\n",
       "      <th>sku</th>\n",
       "      <th>alt_sku</th>\n",
       "      <th>description</th>\n",
       "      <th>status</th>\n",
       "      <th>qty</th>\n",
       "      <th>price</th>\n",
       "      <th>sku_create_date</th>\n",
       "    </tr>\n",
       "  </thead>\n",
       "  <tbody>\n",
       "    <tr>\n",
       "      <th>2627921</th>\n",
       "      <td>9945</td>\n",
       "      <td>VERBATIM CORPORATION</td>\n",
       "      <td>93975</td>\n",
       "      <td>986034</td>\n",
       "      <td>NaN</td>\n",
       "      <td>CD &amp; DVD TRIMPAK CASES 200PK, CLEAR FLEXIBLE P...</td>\n",
       "      <td>In Stock</td>\n",
       "      <td>12</td>\n",
       "      <td>50.53</td>\n",
       "      <td>2020-08-28</td>\n",
       "    </tr>\n",
       "    <tr>\n",
       "      <th>2627922</th>\n",
       "      <td>9945</td>\n",
       "      <td>VERBATIM CORPORATION</td>\n",
       "      <td>93975</td>\n",
       "      <td>986034</td>\n",
       "      <td>NaN</td>\n",
       "      <td>CD &amp; DVD TRIMPAK CASES 200PK, CLEAR FLEXIBLE P...</td>\n",
       "      <td>In Stock</td>\n",
       "      <td>12</td>\n",
       "      <td>50.53</td>\n",
       "      <td>2020-08-28</td>\n",
       "    </tr>\n",
       "    <tr>\n",
       "      <th>2627923</th>\n",
       "      <td>9945</td>\n",
       "      <td>VERBATIM CORPORATION</td>\n",
       "      <td>93975</td>\n",
       "      <td>986034</td>\n",
       "      <td>NaN</td>\n",
       "      <td>CD &amp; DVD TRIMPAK CASES 200PK, CLEAR FLEXIBLE P...</td>\n",
       "      <td>In Stock</td>\n",
       "      <td>12</td>\n",
       "      <td>50.53</td>\n",
       "      <td>2020-08-28</td>\n",
       "    </tr>\n",
       "    <tr>\n",
       "      <th>2627924</th>\n",
       "      <td>9945</td>\n",
       "      <td>VERBATIM CORPORATION</td>\n",
       "      <td>93975</td>\n",
       "      <td>986034</td>\n",
       "      <td>NaN</td>\n",
       "      <td>CD &amp; DVD TRIMPAK CASES 200PK, CLEAR FLEXIBLE P...</td>\n",
       "      <td>In Stock</td>\n",
       "      <td>12</td>\n",
       "      <td>50.53</td>\n",
       "      <td>2020-08-28</td>\n",
       "    </tr>\n",
       "    <tr>\n",
       "      <th>2627925</th>\n",
       "      <td>9945</td>\n",
       "      <td>VERBATIM CORPORATION</td>\n",
       "      <td>93975</td>\n",
       "      <td>986034</td>\n",
       "      <td>NaN</td>\n",
       "      <td>CD &amp; DVD TRIMPAK CASES 200PK, CLEAR FLEXIBLE P...</td>\n",
       "      <td>In Stock</td>\n",
       "      <td>12</td>\n",
       "      <td>50.53</td>\n",
       "      <td>2020-08-28</td>\n",
       "    </tr>\n",
       "  </tbody>\n",
       "</table>\n",
       "</div>"
      ],
      "text/plain": [
       "         category          manufacturer part_number     sku alt_sku  \\\n",
       "2627921      9945  VERBATIM CORPORATION       93975  986034     NaN   \n",
       "2627922      9945  VERBATIM CORPORATION       93975  986034     NaN   \n",
       "2627923      9945  VERBATIM CORPORATION       93975  986034     NaN   \n",
       "2627924      9945  VERBATIM CORPORATION       93975  986034     NaN   \n",
       "2627925      9945  VERBATIM CORPORATION       93975  986034     NaN   \n",
       "\n",
       "                                               description    status  qty  \\\n",
       "2627921  CD & DVD TRIMPAK CASES 200PK, CLEAR FLEXIBLE P...  In Stock   12   \n",
       "2627922  CD & DVD TRIMPAK CASES 200PK, CLEAR FLEXIBLE P...  In Stock   12   \n",
       "2627923  CD & DVD TRIMPAK CASES 200PK, CLEAR FLEXIBLE P...  In Stock   12   \n",
       "2627924  CD & DVD TRIMPAK CASES 200PK, CLEAR FLEXIBLE P...  In Stock   12   \n",
       "2627925  CD & DVD TRIMPAK CASES 200PK, CLEAR FLEXIBLE P...  In Stock   12   \n",
       "\n",
       "         price sku_create_date  \n",
       "2627921  50.53      2020-08-28  \n",
       "2627922  50.53      2020-08-28  \n",
       "2627923  50.53      2020-08-28  \n",
       "2627924  50.53      2020-08-28  \n",
       "2627925  50.53      2020-08-28  "
      ]
     },
     "execution_count": 22,
     "metadata": {},
     "output_type": "execute_result"
    }
   ],
   "source": [
    "# Last five rows of the dataset\n",
    "imus.tail()"
   ]
  },
  {
   "cell_type": "markdown",
   "id": "fd6dea9d",
   "metadata": {},
   "source": [
    "* Here i used the tail() function i want to see Last five observations of the Dataset.Because i want to Understand how Data is distributed at the Ending of Table."
   ]
  },
  {
   "cell_type": "code",
   "execution_count": 23,
   "id": "2d0f5459",
   "metadata": {},
   "outputs": [
    {
     "data": {
      "text/plain": [
       "(2627926, 10)"
      ]
     },
     "execution_count": 23,
     "metadata": {},
     "output_type": "execute_result"
    }
   ],
   "source": [
    "# Shape of the dataset\n",
    "imus.shape"
   ]
  },
  {
   "cell_type": "markdown",
   "id": "31b01f0e",
   "metadata": {},
   "source": [
    "* Here i used df.shape function and it gives me a tuple i.e. (no.of row, no. of column).using this function i can easily see how many rows and columns in given dataset.and in our Dataset there 2627926 obsevations and 10 coulumns."
   ]
  },
  {
   "cell_type": "code",
   "execution_count": 24,
   "id": "e0742738",
   "metadata": {},
   "outputs": [
    {
     "data": {
      "text/plain": [
       "Index(['category', 'manufacturer', 'part_number', 'sku', 'alt_sku',\n",
       "       'description', 'status', 'qty', 'price', 'sku_create_date'],\n",
       "      dtype='object')"
      ]
     },
     "execution_count": 24,
     "metadata": {},
     "output_type": "execute_result"
    }
   ],
   "source": [
    "# Columns present in the dataset\n",
    "imus.columns"
   ]
  },
  {
   "cell_type": "code",
   "execution_count": 25,
   "id": "30530865",
   "metadata": {},
   "outputs": [
    {
     "data": {
      "text/plain": [
       "category              153\n",
       "manufacturer         1484\n",
       "part_number        334574\n",
       "sku                379112\n",
       "alt_sku              2079\n",
       "description        339222\n",
       "status                  2\n",
       "qty                  2618\n",
       "price              122688\n",
       "sku_create_date        10\n",
       "dtype: int64"
      ]
     },
     "execution_count": 25,
     "metadata": {},
     "output_type": "execute_result"
    }
   ],
   "source": [
    "# To see unique value in each column\n",
    "imus.nunique()"
   ]
  },
  {
   "cell_type": "code",
   "execution_count": 26,
   "id": "9960d45a",
   "metadata": {},
   "outputs": [
    {
     "name": "stdout",
     "output_type": "stream",
     "text": [
      "<class 'pandas.core.frame.DataFrame'>\n",
      "RangeIndex: 2627926 entries, 0 to 2627925\n",
      "Data columns (total 10 columns):\n",
      " #   Column           Dtype         \n",
      "---  ------           -----         \n",
      " 0   category         int64         \n",
      " 1   manufacturer     object        \n",
      " 2   part_number      object        \n",
      " 3   sku              object        \n",
      " 4   alt_sku          object        \n",
      " 5   description      object        \n",
      " 6   status           object        \n",
      " 7   qty              int64         \n",
      " 8   price            float64       \n",
      " 9   sku_create_date  datetime64[ns]\n",
      "dtypes: datetime64[ns](1), float64(1), int64(2), object(6)\n",
      "memory usage: 200.5+ MB\n"
     ]
    }
   ],
   "source": [
    "# A concise summary of the dataset\n",
    "imus.info()"
   ]
  },
  {
   "cell_type": "code",
   "execution_count": 27,
   "id": "28ba6284",
   "metadata": {},
   "outputs": [],
   "source": [
    "imus = imus.astype({\"category\" : 'category'})"
   ]
  },
  {
   "cell_type": "markdown",
   "id": "97d71f7b",
   "metadata": {},
   "source": [
    "* Here I change the datatype because category coulumn is categorycal."
   ]
  },
  {
   "cell_type": "code",
   "execution_count": 28,
   "id": "478982aa",
   "metadata": {},
   "outputs": [
    {
     "data": {
      "text/html": [
       "<div>\n",
       "<style scoped>\n",
       "    .dataframe tbody tr th:only-of-type {\n",
       "        vertical-align: middle;\n",
       "    }\n",
       "\n",
       "    .dataframe tbody tr th {\n",
       "        vertical-align: top;\n",
       "    }\n",
       "\n",
       "    .dataframe thead th {\n",
       "        text-align: right;\n",
       "    }\n",
       "</style>\n",
       "<table border=\"1\" class=\"dataframe\">\n",
       "  <thead>\n",
       "    <tr style=\"text-align: right;\">\n",
       "      <th></th>\n",
       "      <th>category</th>\n",
       "      <th>manufacturer</th>\n",
       "      <th>part_number</th>\n",
       "      <th>sku</th>\n",
       "      <th>alt_sku</th>\n",
       "      <th>description</th>\n",
       "      <th>status</th>\n",
       "      <th>qty</th>\n",
       "      <th>price</th>\n",
       "      <th>sku_create_date</th>\n",
       "    </tr>\n",
       "  </thead>\n",
       "  <tbody>\n",
       "    <tr>\n",
       "      <th>0</th>\n",
       "      <td>False</td>\n",
       "      <td>False</td>\n",
       "      <td>False</td>\n",
       "      <td>False</td>\n",
       "      <td>True</td>\n",
       "      <td>False</td>\n",
       "      <td>False</td>\n",
       "      <td>False</td>\n",
       "      <td>False</td>\n",
       "      <td>False</td>\n",
       "    </tr>\n",
       "    <tr>\n",
       "      <th>1</th>\n",
       "      <td>False</td>\n",
       "      <td>False</td>\n",
       "      <td>False</td>\n",
       "      <td>False</td>\n",
       "      <td>True</td>\n",
       "      <td>False</td>\n",
       "      <td>False</td>\n",
       "      <td>False</td>\n",
       "      <td>False</td>\n",
       "      <td>False</td>\n",
       "    </tr>\n",
       "    <tr>\n",
       "      <th>2</th>\n",
       "      <td>False</td>\n",
       "      <td>False</td>\n",
       "      <td>False</td>\n",
       "      <td>False</td>\n",
       "      <td>True</td>\n",
       "      <td>False</td>\n",
       "      <td>False</td>\n",
       "      <td>False</td>\n",
       "      <td>False</td>\n",
       "      <td>False</td>\n",
       "    </tr>\n",
       "    <tr>\n",
       "      <th>3</th>\n",
       "      <td>False</td>\n",
       "      <td>False</td>\n",
       "      <td>False</td>\n",
       "      <td>False</td>\n",
       "      <td>True</td>\n",
       "      <td>False</td>\n",
       "      <td>False</td>\n",
       "      <td>False</td>\n",
       "      <td>False</td>\n",
       "      <td>False</td>\n",
       "    </tr>\n",
       "    <tr>\n",
       "      <th>4</th>\n",
       "      <td>False</td>\n",
       "      <td>False</td>\n",
       "      <td>False</td>\n",
       "      <td>False</td>\n",
       "      <td>True</td>\n",
       "      <td>False</td>\n",
       "      <td>False</td>\n",
       "      <td>False</td>\n",
       "      <td>False</td>\n",
       "      <td>False</td>\n",
       "    </tr>\n",
       "    <tr>\n",
       "      <th>...</th>\n",
       "      <td>...</td>\n",
       "      <td>...</td>\n",
       "      <td>...</td>\n",
       "      <td>...</td>\n",
       "      <td>...</td>\n",
       "      <td>...</td>\n",
       "      <td>...</td>\n",
       "      <td>...</td>\n",
       "      <td>...</td>\n",
       "      <td>...</td>\n",
       "    </tr>\n",
       "    <tr>\n",
       "      <th>2627921</th>\n",
       "      <td>False</td>\n",
       "      <td>False</td>\n",
       "      <td>False</td>\n",
       "      <td>False</td>\n",
       "      <td>True</td>\n",
       "      <td>False</td>\n",
       "      <td>False</td>\n",
       "      <td>False</td>\n",
       "      <td>False</td>\n",
       "      <td>False</td>\n",
       "    </tr>\n",
       "    <tr>\n",
       "      <th>2627922</th>\n",
       "      <td>False</td>\n",
       "      <td>False</td>\n",
       "      <td>False</td>\n",
       "      <td>False</td>\n",
       "      <td>True</td>\n",
       "      <td>False</td>\n",
       "      <td>False</td>\n",
       "      <td>False</td>\n",
       "      <td>False</td>\n",
       "      <td>False</td>\n",
       "    </tr>\n",
       "    <tr>\n",
       "      <th>2627923</th>\n",
       "      <td>False</td>\n",
       "      <td>False</td>\n",
       "      <td>False</td>\n",
       "      <td>False</td>\n",
       "      <td>True</td>\n",
       "      <td>False</td>\n",
       "      <td>False</td>\n",
       "      <td>False</td>\n",
       "      <td>False</td>\n",
       "      <td>False</td>\n",
       "    </tr>\n",
       "    <tr>\n",
       "      <th>2627924</th>\n",
       "      <td>False</td>\n",
       "      <td>False</td>\n",
       "      <td>False</td>\n",
       "      <td>False</td>\n",
       "      <td>True</td>\n",
       "      <td>False</td>\n",
       "      <td>False</td>\n",
       "      <td>False</td>\n",
       "      <td>False</td>\n",
       "      <td>False</td>\n",
       "    </tr>\n",
       "    <tr>\n",
       "      <th>2627925</th>\n",
       "      <td>False</td>\n",
       "      <td>False</td>\n",
       "      <td>False</td>\n",
       "      <td>False</td>\n",
       "      <td>True</td>\n",
       "      <td>False</td>\n",
       "      <td>False</td>\n",
       "      <td>False</td>\n",
       "      <td>False</td>\n",
       "      <td>False</td>\n",
       "    </tr>\n",
       "  </tbody>\n",
       "</table>\n",
       "<p>2627926 rows × 10 columns</p>\n",
       "</div>"
      ],
      "text/plain": [
       "         category  manufacturer  part_number    sku  alt_sku  description  \\\n",
       "0           False         False        False  False     True        False   \n",
       "1           False         False        False  False     True        False   \n",
       "2           False         False        False  False     True        False   \n",
       "3           False         False        False  False     True        False   \n",
       "4           False         False        False  False     True        False   \n",
       "...           ...           ...          ...    ...      ...          ...   \n",
       "2627921     False         False        False  False     True        False   \n",
       "2627922     False         False        False  False     True        False   \n",
       "2627923     False         False        False  False     True        False   \n",
       "2627924     False         False        False  False     True        False   \n",
       "2627925     False         False        False  False     True        False   \n",
       "\n",
       "         status    qty  price  sku_create_date  \n",
       "0         False  False  False            False  \n",
       "1         False  False  False            False  \n",
       "2         False  False  False            False  \n",
       "3         False  False  False            False  \n",
       "4         False  False  False            False  \n",
       "...         ...    ...    ...              ...  \n",
       "2627921   False  False  False            False  \n",
       "2627922   False  False  False            False  \n",
       "2627923   False  False  False            False  \n",
       "2627924   False  False  False            False  \n",
       "2627925   False  False  False            False  \n",
       "\n",
       "[2627926 rows x 10 columns]"
      ]
     },
     "execution_count": 28,
     "metadata": {},
     "output_type": "execute_result"
    }
   ],
   "source": [
    "# Checking missing values\n",
    "imus_missing = imus.isna()\n",
    "imus_missing"
   ]
  },
  {
   "cell_type": "code",
   "execution_count": 29,
   "id": "ba2f70cd",
   "metadata": {},
   "outputs": [
    {
     "data": {
      "text/plain": [
       "category                 0\n",
       "manufacturer             0\n",
       "part_number              0\n",
       "sku                      0\n",
       "alt_sku            2613442\n",
       "description              0\n",
       "status                   0\n",
       "qty                      0\n",
       "price                    0\n",
       "sku_create_date          0\n",
       "dtype: int64"
      ]
     },
     "execution_count": 29,
     "metadata": {},
     "output_type": "execute_result"
    }
   ],
   "source": [
    "imus_missing.sum()"
   ]
  },
  {
   "cell_type": "code",
   "execution_count": 30,
   "id": "f3f7d3ee",
   "metadata": {},
   "outputs": [
    {
     "data": {
      "text/plain": [
       "category            0.000000\n",
       "manufacturer        0.000000\n",
       "part_number         0.000000\n",
       "sku                 0.000000\n",
       "alt_sku            99.448843\n",
       "description         0.000000\n",
       "status              0.000000\n",
       "qty                 0.000000\n",
       "price               0.000000\n",
       "sku_create_date     0.000000\n",
       "dtype: float64"
      ]
     },
     "execution_count": 30,
     "metadata": {},
     "output_type": "execute_result"
    }
   ],
   "source": [
    "imus_missing.mean() * 100"
   ]
  },
  {
   "cell_type": "code",
   "execution_count": 31,
   "id": "8b6613fe",
   "metadata": {},
   "outputs": [
    {
     "data": {
      "text/plain": [
       "<AxesSubplot:>"
      ]
     },
     "execution_count": 31,
     "metadata": {},
     "output_type": "execute_result"
    },
    {
     "data": {
      "image/png": "[encoded data removed]",
      "text/plain": [
       "<Figure size 1728x720 with 3 Axes>"
      ]
     },
     "metadata": {
      "needs_background": "light"
     },
     "output_type": "display_data"
    }
   ],
   "source": [
    "msno.bar(imus)"
   ]
  },
  {
   "cell_type": "markdown",
   "id": "8afe325f",
   "metadata": {},
   "source": [
    "* Here i can easily see 99.44 % highest missing data i decide to remove it."
   ]
  },
  {
   "cell_type": "code",
   "execution_count": 32,
   "id": "4e3eaf17",
   "metadata": {},
   "outputs": [],
   "source": [
    "imus = imus.drop(['alt_sku'], axis = 1)"
   ]
  },
  {
   "cell_type": "code",
   "execution_count": 33,
   "id": "77c40d8e",
   "metadata": {},
   "outputs": [
    {
     "data": {
      "text/html": [
       "<div>\n",
       "<style scoped>\n",
       "    .dataframe tbody tr th:only-of-type {\n",
       "        vertical-align: middle;\n",
       "    }\n",
       "\n",
       "    .dataframe tbody tr th {\n",
       "        vertical-align: top;\n",
       "    }\n",
       "\n",
       "    .dataframe thead th {\n",
       "        text-align: right;\n",
       "    }\n",
       "</style>\n",
       "<table border=\"1\" class=\"dataframe\">\n",
       "  <thead>\n",
       "    <tr style=\"text-align: right;\">\n",
       "      <th></th>\n",
       "      <th>category</th>\n",
       "      <th>manufacturer</th>\n",
       "      <th>part_number</th>\n",
       "      <th>sku</th>\n",
       "      <th>description</th>\n",
       "      <th>status</th>\n",
       "      <th>qty</th>\n",
       "      <th>price</th>\n",
       "      <th>sku_create_date</th>\n",
       "    </tr>\n",
       "  </thead>\n",
       "  <tbody>\n",
       "    <tr>\n",
       "      <th>0</th>\n",
       "      <td>1539</td>\n",
       "      <td>MS-OPEN VALUE SUBSCRIPTION</td>\n",
       "      <td>021-09108</td>\n",
       "      <td>BA0011</td>\n",
       "      <td>1YR OFFICESTD ALNG LICSAPK OLV, D AP</td>\n",
       "      <td>No Stock</td>\n",
       "      <td>0</td>\n",
       "      <td>143.58</td>\n",
       "      <td>2020-08-17</td>\n",
       "    </tr>\n",
       "    <tr>\n",
       "      <th>1</th>\n",
       "      <td>1539</td>\n",
       "      <td>MS-OPEN VALUE SUBSCRIPTION</td>\n",
       "      <td>059-07014</td>\n",
       "      <td>BA0025</td>\n",
       "      <td>1YR WORD ALNG LICSAPK OLV D AP,</td>\n",
       "      <td>No Stock</td>\n",
       "      <td>0</td>\n",
       "      <td>56.09</td>\n",
       "      <td>2020-08-17</td>\n",
       "    </tr>\n",
       "    <tr>\n",
       "      <th>2</th>\n",
       "      <td>1539</td>\n",
       "      <td>MS-OPEN VALUE SUBSCRIPTION</td>\n",
       "      <td>065-06444</td>\n",
       "      <td>BA0039</td>\n",
       "      <td>1YR EXCEL ALNG LICSAPK OLV D AP,</td>\n",
       "      <td>No Stock</td>\n",
       "      <td>0</td>\n",
       "      <td>56.09</td>\n",
       "      <td>2020-08-17</td>\n",
       "    </tr>\n",
       "    <tr>\n",
       "      <th>3</th>\n",
       "      <td>1539</td>\n",
       "      <td>MS-OPEN VALUE SUBSCRIPTION</td>\n",
       "      <td>076-04355</td>\n",
       "      <td>BA0067</td>\n",
       "      <td>1YR PRJCT ALNG LICSAPK OLV D AP,</td>\n",
       "      <td>No Stock</td>\n",
       "      <td>0</td>\n",
       "      <td>217.60</td>\n",
       "      <td>2020-08-17</td>\n",
       "    </tr>\n",
       "    <tr>\n",
       "      <th>4</th>\n",
       "      <td>1582</td>\n",
       "      <td>MS-OPEN VALUE SUBSCRIPTION</td>\n",
       "      <td>077-05318</td>\n",
       "      <td>BA0080</td>\n",
       "      <td>1YR ACCESS ALNG LICSAPK OLV D, AP</td>\n",
       "      <td>No Stock</td>\n",
       "      <td>0</td>\n",
       "      <td>56.09</td>\n",
       "      <td>2020-08-17</td>\n",
       "    </tr>\n",
       "  </tbody>\n",
       "</table>\n",
       "</div>"
      ],
      "text/plain": [
       "  category                manufacturer part_number     sku  \\\n",
       "0     1539  MS-OPEN VALUE SUBSCRIPTION   021-09108  BA0011   \n",
       "1     1539  MS-OPEN VALUE SUBSCRIPTION   059-07014  BA0025   \n",
       "2     1539  MS-OPEN VALUE SUBSCRIPTION   065-06444  BA0039   \n",
       "3     1539  MS-OPEN VALUE SUBSCRIPTION   076-04355  BA0067   \n",
       "4     1582  MS-OPEN VALUE SUBSCRIPTION   077-05318  BA0080   \n",
       "\n",
       "                            description    status  qty   price sku_create_date  \n",
       "0  1YR OFFICESTD ALNG LICSAPK OLV, D AP  No Stock    0  143.58      2020-08-17  \n",
       "1       1YR WORD ALNG LICSAPK OLV D AP,  No Stock    0   56.09      2020-08-17  \n",
       "2      1YR EXCEL ALNG LICSAPK OLV D AP,  No Stock    0   56.09      2020-08-17  \n",
       "3      1YR PRJCT ALNG LICSAPK OLV D AP,  No Stock    0  217.60      2020-08-17  \n",
       "4     1YR ACCESS ALNG LICSAPK OLV D, AP  No Stock    0   56.09      2020-08-17  "
      ]
     },
     "execution_count": 33,
     "metadata": {},
     "output_type": "execute_result"
    }
   ],
   "source": [
    "imus.head()"
   ]
  },
  {
   "cell_type": "code",
   "execution_count": 34,
   "id": "5f9c17e9",
   "metadata": {},
   "outputs": [
    {
     "data": {
      "text/html": [
       "<div>\n",
       "<style scoped>\n",
       "    .dataframe tbody tr th:only-of-type {\n",
       "        vertical-align: middle;\n",
       "    }\n",
       "\n",
       "    .dataframe tbody tr th {\n",
       "        vertical-align: top;\n",
       "    }\n",
       "\n",
       "    .dataframe thead th {\n",
       "        text-align: right;\n",
       "    }\n",
       "</style>\n",
       "<table border=\"1\" class=\"dataframe\">\n",
       "  <thead>\n",
       "    <tr style=\"text-align: right;\">\n",
       "      <th></th>\n",
       "      <th>qty</th>\n",
       "      <th>price</th>\n",
       "    </tr>\n",
       "  </thead>\n",
       "  <tbody>\n",
       "    <tr>\n",
       "      <th>count</th>\n",
       "      <td>2.627926e+06</td>\n",
       "      <td>2.627926e+06</td>\n",
       "    </tr>\n",
       "    <tr>\n",
       "      <th>mean</th>\n",
       "      <td>4.138502e+01</td>\n",
       "      <td>1.882534e+03</td>\n",
       "    </tr>\n",
       "    <tr>\n",
       "      <th>std</th>\n",
       "      <td>5.802069e+02</td>\n",
       "      <td>8.202102e+04</td>\n",
       "    </tr>\n",
       "    <tr>\n",
       "      <th>min</th>\n",
       "      <td>0.000000e+00</td>\n",
       "      <td>0.000000e+00</td>\n",
       "    </tr>\n",
       "    <tr>\n",
       "      <th>25%</th>\n",
       "      <td>0.000000e+00</td>\n",
       "      <td>2.108000e+01</td>\n",
       "    </tr>\n",
       "    <tr>\n",
       "      <th>50%</th>\n",
       "      <td>0.000000e+00</td>\n",
       "      <td>9.531000e+01</td>\n",
       "    </tr>\n",
       "    <tr>\n",
       "      <th>75%</th>\n",
       "      <td>2.000000e+00</td>\n",
       "      <td>4.998400e+02</td>\n",
       "    </tr>\n",
       "    <tr>\n",
       "      <th>max</th>\n",
       "      <td>6.006300e+04</td>\n",
       "      <td>8.497453e+07</td>\n",
       "    </tr>\n",
       "  </tbody>\n",
       "</table>\n",
       "</div>"
      ],
      "text/plain": [
       "                qty         price\n",
       "count  2.627926e+06  2.627926e+06\n",
       "mean   4.138502e+01  1.882534e+03\n",
       "std    5.802069e+02  8.202102e+04\n",
       "min    0.000000e+00  0.000000e+00\n",
       "25%    0.000000e+00  2.108000e+01\n",
       "50%    0.000000e+00  9.531000e+01\n",
       "75%    2.000000e+00  4.998400e+02\n",
       "max    6.006300e+04  8.497453e+07"
      ]
     },
     "execution_count": 34,
     "metadata": {},
     "output_type": "execute_result"
    }
   ],
   "source": [
    "# Generating descriptive statistics summary\n",
    "imus.describe()"
   ]
  },
  {
   "cell_type": "markdown",
   "id": "b3f4e0de",
   "metadata": {},
   "source": [
    "# EXPLORATORY DATA ANALYSIS"
   ]
  },
  {
   "cell_type": "code",
   "execution_count": 37,
   "id": "efe8a863",
   "metadata": {},
   "outputs": [
    {
     "data": {
      "text/plain": [
       "array(['No Stock', 'In Stock'], dtype=object)"
      ]
     },
     "execution_count": 37,
     "metadata": {},
     "output_type": "execute_result"
    }
   ],
   "source": [
    "imus.status.unique()"
   ]
  },
  {
   "cell_type": "code",
   "execution_count": 38,
   "id": "59a693ee",
   "metadata": {
    "scrolled": true
   },
   "outputs": [
    {
     "data": {
      "text/html": [
       "<div>\n",
       "<style scoped>\n",
       "    .dataframe tbody tr th:only-of-type {\n",
       "        vertical-align: middle;\n",
       "    }\n",
       "\n",
       "    .dataframe tbody tr th {\n",
       "        vertical-align: top;\n",
       "    }\n",
       "\n",
       "    .dataframe thead th {\n",
       "        text-align: right;\n",
       "    }\n",
       "</style>\n",
       "<table border=\"1\" class=\"dataframe\">\n",
       "  <thead>\n",
       "    <tr style=\"text-align: right;\">\n",
       "      <th></th>\n",
       "      <th>category</th>\n",
       "      <th>manufacturer</th>\n",
       "      <th>part_number</th>\n",
       "      <th>sku</th>\n",
       "      <th>description</th>\n",
       "      <th>status</th>\n",
       "      <th>qty</th>\n",
       "      <th>price</th>\n",
       "      <th>sku_create_date</th>\n",
       "    </tr>\n",
       "  </thead>\n",
       "  <tbody>\n",
       "    <tr>\n",
       "      <th>253</th>\n",
       "      <td>9920</td>\n",
       "      <td>CASE LOGIC-PERSONAL &amp; PORTABLE</td>\n",
       "      <td>3200943</td>\n",
       "      <td>BA6371</td>\n",
       "      <td>LAPTOP ROLLING CASE BLACK, SECURITY FRIENDLY 17IN</td>\n",
       "      <td>In Stock</td>\n",
       "      <td>7</td>\n",
       "      <td>99.00</td>\n",
       "      <td>2020-08-17</td>\n",
       "    </tr>\n",
       "    <tr>\n",
       "      <th>271</th>\n",
       "      <td>531</td>\n",
       "      <td>OMNITRON SYSTEMS</td>\n",
       "      <td>7206-0</td>\n",
       "      <td>BA6834</td>\n",
       "      <td>1000BASE-SX SFP LC/MM/DF 850NM, 550M PLUGGABLE...</td>\n",
       "      <td>In Stock</td>\n",
       "      <td>2</td>\n",
       "      <td>59.09</td>\n",
       "      <td>2020-08-17</td>\n",
       "    </tr>\n",
       "    <tr>\n",
       "      <th>320</th>\n",
       "      <td>9070</td>\n",
       "      <td>ZEBRA ENTERPRISE MCD-A1</td>\n",
       "      <td>SAC5070-800CR</td>\n",
       "      <td>BC0227</td>\n",
       "      <td>RS507 8SLOT BATTERY CHARGE KIT, EXT PWR SUPL/U...</td>\n",
       "      <td>In Stock</td>\n",
       "      <td>3</td>\n",
       "      <td>500.06</td>\n",
       "      <td>2020-08-17</td>\n",
       "    </tr>\n",
       "    <tr>\n",
       "      <th>324</th>\n",
       "      <td>9080</td>\n",
       "      <td>ZEBRA ENTERPRISE MCD-A1</td>\n",
       "      <td>KT-CLMPT-RS507-01R</td>\n",
       "      <td>BC0232</td>\n",
       "      <td>RS507 TRIGGER SWIVEL DOES NOT, INCLUDE STRAP/B...</td>\n",
       "      <td>In Stock</td>\n",
       "      <td>115</td>\n",
       "      <td>86.34</td>\n",
       "      <td>2020-08-17</td>\n",
       "    </tr>\n",
       "    <tr>\n",
       "      <th>326</th>\n",
       "      <td>9080</td>\n",
       "      <td>ZEBRA ENTERPRISE MCD-A1</td>\n",
       "      <td>KT-PAD-RS507-10R</td>\n",
       "      <td>BC0234</td>\n",
       "      <td>10 CT COMFORT PADS FOR RS507,</td>\n",
       "      <td>In Stock</td>\n",
       "      <td>42</td>\n",
       "      <td>51.80</td>\n",
       "      <td>2020-08-17</td>\n",
       "    </tr>\n",
       "    <tr>\n",
       "      <th>...</th>\n",
       "      <td>...</td>\n",
       "      <td>...</td>\n",
       "      <td>...</td>\n",
       "      <td>...</td>\n",
       "      <td>...</td>\n",
       "      <td>...</td>\n",
       "      <td>...</td>\n",
       "      <td>...</td>\n",
       "      <td>...</td>\n",
       "    </tr>\n",
       "    <tr>\n",
       "      <th>2627921</th>\n",
       "      <td>9945</td>\n",
       "      <td>VERBATIM CORPORATION</td>\n",
       "      <td>93975</td>\n",
       "      <td>986034</td>\n",
       "      <td>CD &amp; DVD TRIMPAK CASES 200PK, CLEAR FLEXIBLE P...</td>\n",
       "      <td>In Stock</td>\n",
       "      <td>12</td>\n",
       "      <td>50.53</td>\n",
       "      <td>2020-08-28</td>\n",
       "    </tr>\n",
       "    <tr>\n",
       "      <th>2627922</th>\n",
       "      <td>9945</td>\n",
       "      <td>VERBATIM CORPORATION</td>\n",
       "      <td>93975</td>\n",
       "      <td>986034</td>\n",
       "      <td>CD &amp; DVD TRIMPAK CASES 200PK, CLEAR FLEXIBLE P...</td>\n",
       "      <td>In Stock</td>\n",
       "      <td>12</td>\n",
       "      <td>50.53</td>\n",
       "      <td>2020-08-28</td>\n",
       "    </tr>\n",
       "    <tr>\n",
       "      <th>2627923</th>\n",
       "      <td>9945</td>\n",
       "      <td>VERBATIM CORPORATION</td>\n",
       "      <td>93975</td>\n",
       "      <td>986034</td>\n",
       "      <td>CD &amp; DVD TRIMPAK CASES 200PK, CLEAR FLEXIBLE P...</td>\n",
       "      <td>In Stock</td>\n",
       "      <td>12</td>\n",
       "      <td>50.53</td>\n",
       "      <td>2020-08-28</td>\n",
       "    </tr>\n",
       "    <tr>\n",
       "      <th>2627924</th>\n",
       "      <td>9945</td>\n",
       "      <td>VERBATIM CORPORATION</td>\n",
       "      <td>93975</td>\n",
       "      <td>986034</td>\n",
       "      <td>CD &amp; DVD TRIMPAK CASES 200PK, CLEAR FLEXIBLE P...</td>\n",
       "      <td>In Stock</td>\n",
       "      <td>12</td>\n",
       "      <td>50.53</td>\n",
       "      <td>2020-08-28</td>\n",
       "    </tr>\n",
       "    <tr>\n",
       "      <th>2627925</th>\n",
       "      <td>9945</td>\n",
       "      <td>VERBATIM CORPORATION</td>\n",
       "      <td>93975</td>\n",
       "      <td>986034</td>\n",
       "      <td>CD &amp; DVD TRIMPAK CASES 200PK, CLEAR FLEXIBLE P...</td>\n",
       "      <td>In Stock</td>\n",
       "      <td>12</td>\n",
       "      <td>50.53</td>\n",
       "      <td>2020-08-28</td>\n",
       "    </tr>\n",
       "  </tbody>\n",
       "</table>\n",
       "<p>713788 rows × 9 columns</p>\n",
       "</div>"
      ],
      "text/plain": [
       "        category                    manufacturer         part_number     sku  \\\n",
       "253         9920  CASE LOGIC-PERSONAL & PORTABLE             3200943  BA6371   \n",
       "271          531                OMNITRON SYSTEMS              7206-0  BA6834   \n",
       "320         9070         ZEBRA ENTERPRISE MCD-A1       SAC5070-800CR  BC0227   \n",
       "324         9080         ZEBRA ENTERPRISE MCD-A1  KT-CLMPT-RS507-01R  BC0232   \n",
       "326         9080         ZEBRA ENTERPRISE MCD-A1    KT-PAD-RS507-10R  BC0234   \n",
       "...          ...                             ...                 ...     ...   \n",
       "2627921     9945            VERBATIM CORPORATION               93975  986034   \n",
       "2627922     9945            VERBATIM CORPORATION               93975  986034   \n",
       "2627923     9945            VERBATIM CORPORATION               93975  986034   \n",
       "2627924     9945            VERBATIM CORPORATION               93975  986034   \n",
       "2627925     9945            VERBATIM CORPORATION               93975  986034   \n",
       "\n",
       "                                               description    status  qty  \\\n",
       "253      LAPTOP ROLLING CASE BLACK, SECURITY FRIENDLY 17IN  In Stock    7   \n",
       "271      1000BASE-SX SFP LC/MM/DF 850NM, 550M PLUGGABLE...  In Stock    2   \n",
       "320      RS507 8SLOT BATTERY CHARGE KIT, EXT PWR SUPL/U...  In Stock    3   \n",
       "324      RS507 TRIGGER SWIVEL DOES NOT, INCLUDE STRAP/B...  In Stock  115   \n",
       "326                          10 CT COMFORT PADS FOR RS507,  In Stock   42   \n",
       "...                                                    ...       ...  ...   \n",
       "2627921  CD & DVD TRIMPAK CASES 200PK, CLEAR FLEXIBLE P...  In Stock   12   \n",
       "2627922  CD & DVD TRIMPAK CASES 200PK, CLEAR FLEXIBLE P...  In Stock   12   \n",
       "2627923  CD & DVD TRIMPAK CASES 200PK, CLEAR FLEXIBLE P...  In Stock   12   \n",
       "2627924  CD & DVD TRIMPAK CASES 200PK, CLEAR FLEXIBLE P...  In Stock   12   \n",
       "2627925  CD & DVD TRIMPAK CASES 200PK, CLEAR FLEXIBLE P...  In Stock   12   \n",
       "\n",
       "          price sku_create_date  \n",
       "253       99.00      2020-08-17  \n",
       "271       59.09      2020-08-17  \n",
       "320      500.06      2020-08-17  \n",
       "324       86.34      2020-08-17  \n",
       "326       51.80      2020-08-17  \n",
       "...         ...             ...  \n",
       "2627921   50.53      2020-08-28  \n",
       "2627922   50.53      2020-08-28  \n",
       "2627923   50.53      2020-08-28  \n",
       "2627924   50.53      2020-08-28  \n",
       "2627925   50.53      2020-08-28  \n",
       "\n",
       "[713788 rows x 9 columns]"
      ]
     },
     "execution_count": 38,
     "metadata": {},
     "output_type": "execute_result"
    }
   ],
   "source": [
    "# For Data In Stock\n",
    "InStock=imus[imus[\"status\"]==\"In Stock\"]\n",
    "InStock"
   ]
  },
  {
   "cell_type": "markdown",
   "id": "b24c2084",
   "metadata": {},
   "source": [
    "* Here i take the Half data using status coulmn i seperate the data into instock and no stock."
   ]
  },
  {
   "cell_type": "markdown",
   "id": "c04c479b",
   "metadata": {},
   "source": [
    "### The Top manufacturers with price and quantity"
   ]
  },
  {
   "cell_type": "code",
   "execution_count": 47,
   "id": "5f9bcd37",
   "metadata": {},
   "outputs": [
    {
     "data": {
      "text/plain": [
       "manufacturer       ZYXEL\n",
       "price           69729.03\n",
       "qty                60063\n",
       "dtype: object"
      ]
     },
     "execution_count": 47,
     "metadata": {},
     "output_type": "execute_result"
    }
   ],
   "source": [
    "Mani = pd.DataFrame(InStock, columns = ['manufacturer', 'price', 'qty'])\n",
    "maxvalue_series = Mani.max(axis = 0)\n",
    "maxvalue_series"
   ]
  },
  {
   "cell_type": "code",
   "execution_count": null,
   "id": "7911fa2a",
   "metadata": {},
   "outputs": [],
   "source": []
  },
  {
   "cell_type": "markdown",
   "id": "6d4cf3cc",
   "metadata": {},
   "source": [
    "# Q.2. Which are the most profitable products?"
   ]
  },
  {
   "cell_type": "code",
   "execution_count": 43,
   "id": "38ad85bd",
   "metadata": {},
   "outputs": [
    {
     "data": {
      "text/plain": [
       "count    713788.000000\n",
       "mean        158.543729\n",
       "std         553.645433\n",
       "min           0.000000\n",
       "25%           9.640000\n",
       "50%          28.060000\n",
       "75%          99.340000\n",
       "max       69729.030000\n",
       "Name: price, dtype: float64"
      ]
     },
     "execution_count": 43,
     "metadata": {},
     "output_type": "execute_result"
    }
   ],
   "source": [
    "InStock['price'].describe()"
   ]
  },
  {
   "cell_type": "code",
   "execution_count": 16,
   "id": "7f6545a7",
   "metadata": {},
   "outputs": [
    {
     "data": {
      "image/png": "[encoded data removed]",
      "text/plain": [
       "<Figure size 720x576 with 1 Axes>"
      ]
     },
     "metadata": {
      "needs_background": "light"
     },
     "output_type": "display_data"
    }
   ],
   "source": [
    "# Setting the figure size\n",
    "plt.figure(figsize=(10, 8))\n",
    "\n",
    "# countplot: Show the counts of observations in each category using bars\n",
    "sns.countplot(x='category', data=InStock[:10])\n",
    "\n",
    "# Display the figure\n",
    "plt.show()"
   ]
  },
  {
   "cell_type": "markdown",
   "id": "5f59dfba",
   "metadata": {},
   "source": [
    "# Q.3. Which is the products where you have seen a decrease in price?"
   ]
  },
  {
   "cell_type": "code",
   "execution_count": 40,
   "id": "2bec770c",
   "metadata": {},
   "outputs": [
    {
     "data": {
      "text/plain": [
       "category                                    1\n",
       "manufacturer    3M - OPTICAL SYSTEMS DIVISION\n",
       "part_number                           0-00496\n",
       "price                                     0.0\n",
       "dtype: object"
      ]
     },
     "execution_count": 40,
     "metadata": {},
     "output_type": "execute_result"
    }
   ],
   "source": [
    "Prod = pd.DataFrame(InStock, columns = ['category', 'manufacturer', 'part_number', 'price'])\n",
    "minvalue_series = Prod.min(axis = 0)\n",
    "minvalue_series"
   ]
  },
  {
   "cell_type": "markdown",
   "id": "54ca0f32",
   "metadata": {},
   "source": [
    "# Q.4. Which is the product where you have seen an increase in the price?"
   ]
  },
  {
   "cell_type": "code",
   "execution_count": 41,
   "id": "d7a522a4",
   "metadata": {},
   "outputs": [
    {
     "data": {
      "text/plain": [
       "category            9999\n",
       "manufacturer       ZYXEL\n",
       "part_number     ZUCUBJCK\n",
       "price           69729.03\n",
       "dtype: object"
      ]
     },
     "execution_count": 41,
     "metadata": {},
     "output_type": "execute_result"
    }
   ],
   "source": [
    "Prod = pd.DataFrame(InStock, columns = ['category', 'manufacturer', 'part_number', 'price'])\n",
    "maxvalue_series = Prod.max(axis = 0)\n",
    "maxvalue_series"
   ]
  },
  {
   "cell_type": "markdown",
   "id": "79bc9dac",
   "metadata": {},
   "source": [
    "# Q.5. Which is the top category by price and quantity?"
   ]
  },
  {
   "cell_type": "code",
   "execution_count": 49,
   "id": "0e683baf",
   "metadata": {},
   "outputs": [
    {
     "data": {
      "text/plain": [
       "category     9999.00\n",
       "price       69729.03\n",
       "qty         60063.00\n",
       "dtype: float64"
      ]
     },
     "execution_count": 49,
     "metadata": {},
     "output_type": "execute_result"
    }
   ],
   "source": [
    "Cate = pd.DataFrame(InStock, columns = ['category', 'price', 'qty'])\n",
    "maxvalue_series = Cate.max(axis = 0)\n",
    "maxvalue_series"
   ]
  },
  {
   "cell_type": "markdown",
   "id": "15bbd4db",
   "metadata": {},
   "source": [
    "# Q.6. Which Products are aging?"
   ]
  },
  {
   "cell_type": "code",
   "execution_count": 24,
   "id": "7f6c9a51",
   "metadata": {},
   "outputs": [
    {
     "data": {
      "text/html": [
       "<div>\n",
       "<style scoped>\n",
       "    .dataframe tbody tr th:only-of-type {\n",
       "        vertical-align: middle;\n",
       "    }\n",
       "\n",
       "    .dataframe tbody tr th {\n",
       "        vertical-align: top;\n",
       "    }\n",
       "\n",
       "    .dataframe thead th {\n",
       "        text-align: right;\n",
       "    }\n",
       "</style>\n",
       "<table border=\"1\" class=\"dataframe\">\n",
       "  <thead>\n",
       "    <tr style=\"text-align: right;\">\n",
       "      <th></th>\n",
       "      <th>part_number</th>\n",
       "      <th>qty</th>\n",
       "      <th>sku_create_date</th>\n",
       "    </tr>\n",
       "  </thead>\n",
       "  <tbody>\n",
       "    <tr>\n",
       "      <th>253</th>\n",
       "      <td>3200943</td>\n",
       "      <td>7</td>\n",
       "      <td>2020-08-17</td>\n",
       "    </tr>\n",
       "    <tr>\n",
       "      <th>271</th>\n",
       "      <td>7206-0</td>\n",
       "      <td>2</td>\n",
       "      <td>2020-08-17</td>\n",
       "    </tr>\n",
       "    <tr>\n",
       "      <th>320</th>\n",
       "      <td>SAC5070-800CR</td>\n",
       "      <td>3</td>\n",
       "      <td>2020-08-17</td>\n",
       "    </tr>\n",
       "    <tr>\n",
       "      <th>324</th>\n",
       "      <td>KT-CLMPT-RS507-01R</td>\n",
       "      <td>115</td>\n",
       "      <td>2020-08-17</td>\n",
       "    </tr>\n",
       "    <tr>\n",
       "      <th>326</th>\n",
       "      <td>KT-PAD-RS507-10R</td>\n",
       "      <td>42</td>\n",
       "      <td>2020-08-17</td>\n",
       "    </tr>\n",
       "    <tr>\n",
       "      <th>...</th>\n",
       "      <td>...</td>\n",
       "      <td>...</td>\n",
       "      <td>...</td>\n",
       "    </tr>\n",
       "    <tr>\n",
       "      <th>2627921</th>\n",
       "      <td>93975</td>\n",
       "      <td>12</td>\n",
       "      <td>2020-08-28</td>\n",
       "    </tr>\n",
       "    <tr>\n",
       "      <th>2627922</th>\n",
       "      <td>93975</td>\n",
       "      <td>12</td>\n",
       "      <td>2020-08-28</td>\n",
       "    </tr>\n",
       "    <tr>\n",
       "      <th>2627923</th>\n",
       "      <td>93975</td>\n",
       "      <td>12</td>\n",
       "      <td>2020-08-28</td>\n",
       "    </tr>\n",
       "    <tr>\n",
       "      <th>2627924</th>\n",
       "      <td>93975</td>\n",
       "      <td>12</td>\n",
       "      <td>2020-08-28</td>\n",
       "    </tr>\n",
       "    <tr>\n",
       "      <th>2627925</th>\n",
       "      <td>93975</td>\n",
       "      <td>12</td>\n",
       "      <td>2020-08-28</td>\n",
       "    </tr>\n",
       "  </tbody>\n",
       "</table>\n",
       "<p>713788 rows × 3 columns</p>\n",
       "</div>"
      ],
      "text/plain": [
       "                part_number  qty sku_create_date\n",
       "253                 3200943    7      2020-08-17\n",
       "271                  7206-0    2      2020-08-17\n",
       "320           SAC5070-800CR    3      2020-08-17\n",
       "324      KT-CLMPT-RS507-01R  115      2020-08-17\n",
       "326        KT-PAD-RS507-10R   42      2020-08-17\n",
       "...                     ...  ...             ...\n",
       "2627921               93975   12      2020-08-28\n",
       "2627922               93975   12      2020-08-28\n",
       "2627923               93975   12      2020-08-28\n",
       "2627924               93975   12      2020-08-28\n",
       "2627925               93975   12      2020-08-28\n",
       "\n",
       "[713788 rows x 3 columns]"
      ]
     },
     "execution_count": 24,
     "metadata": {},
     "output_type": "execute_result"
    }
   ],
   "source": [
    "# Deleting columns other than products,sku_create_date and quantity\n",
    "Idata3 = InStock.drop([\"status\", \"description\", \"manufacturer\",\"price\",\"sku\", \"alt_sku\", \"category\"], axis = 1 )\n",
    "Idata3"
   ]
  },
  {
   "cell_type": "code",
   "execution_count": 25,
   "id": "610d8f2b",
   "metadata": {},
   "outputs": [
    {
     "data": {
      "text/html": [
       "<div>\n",
       "<style scoped>\n",
       "    .dataframe tbody tr th:only-of-type {\n",
       "        vertical-align: middle;\n",
       "    }\n",
       "\n",
       "    .dataframe tbody tr th {\n",
       "        vertical-align: top;\n",
       "    }\n",
       "\n",
       "    .dataframe thead th {\n",
       "        text-align: right;\n",
       "    }\n",
       "</style>\n",
       "<table border=\"1\" class=\"dataframe\">\n",
       "  <thead>\n",
       "    <tr style=\"text-align: right;\">\n",
       "      <th></th>\n",
       "      <th>qty</th>\n",
       "    </tr>\n",
       "    <tr>\n",
       "      <th>part_number</th>\n",
       "      <th></th>\n",
       "    </tr>\n",
       "  </thead>\n",
       "  <tbody>\n",
       "    <tr>\n",
       "      <th>VA2446MH-LED</th>\n",
       "      <td>485590</td>\n",
       "    </tr>\n",
       "    <tr>\n",
       "      <th>VG2439SMH</th>\n",
       "      <td>458528</td>\n",
       "    </tr>\n",
       "    <tr>\n",
       "      <th>920-002714</th>\n",
       "      <td>425833</td>\n",
       "    </tr>\n",
       "    <tr>\n",
       "      <th>808-3105</th>\n",
       "      <td>419987</td>\n",
       "    </tr>\n",
       "    <tr>\n",
       "      <th>P134-06N-VGA</th>\n",
       "      <td>419067</td>\n",
       "    </tr>\n",
       "    <tr>\n",
       "      <th>...</th>\n",
       "      <td>...</td>\n",
       "    </tr>\n",
       "    <tr>\n",
       "      <th>LQH-00001</th>\n",
       "      <td>1</td>\n",
       "    </tr>\n",
       "    <tr>\n",
       "      <th>DTEG2/128GB</th>\n",
       "      <td>1</td>\n",
       "    </tr>\n",
       "    <tr>\n",
       "      <th>WD4NPURX</th>\n",
       "      <td>1</td>\n",
       "    </tr>\n",
       "    <tr>\n",
       "      <th>ST250LT012</th>\n",
       "      <td>1</td>\n",
       "    </tr>\n",
       "    <tr>\n",
       "      <th>843266-B21</th>\n",
       "      <td>1</td>\n",
       "    </tr>\n",
       "  </tbody>\n",
       "</table>\n",
       "<p>30662 rows × 1 columns</p>\n",
       "</div>"
      ],
      "text/plain": [
       "                 qty\n",
       "part_number         \n",
       "VA2446MH-LED  485590\n",
       "VG2439SMH     458528\n",
       "920-002714    425833\n",
       "808-3105      419987\n",
       "P134-06N-VGA  419067\n",
       "...              ...\n",
       "LQH-00001          1\n",
       "DTEG2/128GB        1\n",
       "WD4NPURX           1\n",
       "ST250LT012         1\n",
       "843266-B21         1\n",
       "\n",
       "[30662 rows x 1 columns]"
      ]
     },
     "execution_count": 25,
     "metadata": {},
     "output_type": "execute_result"
    }
   ],
   "source": [
    "# Grouping products by quantity\n",
    "IA = pd.DataFrame(Idata3.groupby('part_number').sum()['qty'])\n",
    "\n",
    "# Sorting the dataframe in descending order\n",
    "IA.sort_values(by=['qty'], inplace=True, ascending=False)\n",
    "\n",
    "# First 10 products\n",
    "IA[10:]"
   ]
  },
  {
   "cell_type": "markdown",
   "id": "744a1a9c",
   "metadata": {},
   "source": [
    "# Q.7. How to Drecrese Product Aging?"
   ]
  },
  {
   "cell_type": "code",
   "execution_count": null,
   "id": "5ef29a41",
   "metadata": {},
   "outputs": [],
   "source": []
  },
  {
   "cell_type": "markdown",
   "id": "2ea1f63e",
   "metadata": {},
   "source": [
    "# For data not in Stock:"
   ]
  },
  {
   "cell_type": "code",
   "execution_count": 26,
   "id": "3f3e205c",
   "metadata": {},
   "outputs": [
    {
     "data": {
      "text/html": [
       "<div>\n",
       "<style scoped>\n",
       "    .dataframe tbody tr th:only-of-type {\n",
       "        vertical-align: middle;\n",
       "    }\n",
       "\n",
       "    .dataframe tbody tr th {\n",
       "        vertical-align: top;\n",
       "    }\n",
       "\n",
       "    .dataframe thead th {\n",
       "        text-align: right;\n",
       "    }\n",
       "</style>\n",
       "<table border=\"1\" class=\"dataframe\">\n",
       "  <thead>\n",
       "    <tr style=\"text-align: right;\">\n",
       "      <th></th>\n",
       "      <th>category</th>\n",
       "      <th>manufacturer</th>\n",
       "      <th>part_number</th>\n",
       "      <th>sku</th>\n",
       "      <th>alt_sku</th>\n",
       "      <th>description</th>\n",
       "      <th>status</th>\n",
       "      <th>qty</th>\n",
       "      <th>price</th>\n",
       "      <th>sku_create_date</th>\n",
       "    </tr>\n",
       "  </thead>\n",
       "  <tbody>\n",
       "    <tr>\n",
       "      <th>0</th>\n",
       "      <td>1539</td>\n",
       "      <td>MS-OPEN VALUE SUBSCRIPTION</td>\n",
       "      <td>021-09108</td>\n",
       "      <td>BA0011</td>\n",
       "      <td>NaN</td>\n",
       "      <td>1YR OFFICESTD ALNG LICSAPK OLV, D AP</td>\n",
       "      <td>No Stock</td>\n",
       "      <td>0</td>\n",
       "      <td>143.58</td>\n",
       "      <td>2020-08-17</td>\n",
       "    </tr>\n",
       "    <tr>\n",
       "      <th>1</th>\n",
       "      <td>1539</td>\n",
       "      <td>MS-OPEN VALUE SUBSCRIPTION</td>\n",
       "      <td>059-07014</td>\n",
       "      <td>BA0025</td>\n",
       "      <td>NaN</td>\n",
       "      <td>1YR WORD ALNG LICSAPK OLV D AP,</td>\n",
       "      <td>No Stock</td>\n",
       "      <td>0</td>\n",
       "      <td>56.09</td>\n",
       "      <td>2020-08-17</td>\n",
       "    </tr>\n",
       "    <tr>\n",
       "      <th>2</th>\n",
       "      <td>1539</td>\n",
       "      <td>MS-OPEN VALUE SUBSCRIPTION</td>\n",
       "      <td>065-06444</td>\n",
       "      <td>BA0039</td>\n",
       "      <td>NaN</td>\n",
       "      <td>1YR EXCEL ALNG LICSAPK OLV D AP,</td>\n",
       "      <td>No Stock</td>\n",
       "      <td>0</td>\n",
       "      <td>56.09</td>\n",
       "      <td>2020-08-17</td>\n",
       "    </tr>\n",
       "    <tr>\n",
       "      <th>3</th>\n",
       "      <td>1539</td>\n",
       "      <td>MS-OPEN VALUE SUBSCRIPTION</td>\n",
       "      <td>076-04355</td>\n",
       "      <td>BA0067</td>\n",
       "      <td>NaN</td>\n",
       "      <td>1YR PRJCT ALNG LICSAPK OLV D AP,</td>\n",
       "      <td>No Stock</td>\n",
       "      <td>0</td>\n",
       "      <td>217.60</td>\n",
       "      <td>2020-08-17</td>\n",
       "    </tr>\n",
       "    <tr>\n",
       "      <th>4</th>\n",
       "      <td>1582</td>\n",
       "      <td>MS-OPEN VALUE SUBSCRIPTION</td>\n",
       "      <td>077-05318</td>\n",
       "      <td>BA0080</td>\n",
       "      <td>NaN</td>\n",
       "      <td>1YR ACCESS ALNG LICSAPK OLV D, AP</td>\n",
       "      <td>No Stock</td>\n",
       "      <td>0</td>\n",
       "      <td>56.09</td>\n",
       "      <td>2020-08-17</td>\n",
       "    </tr>\n",
       "    <tr>\n",
       "      <th>...</th>\n",
       "      <td>...</td>\n",
       "      <td>...</td>\n",
       "      <td>...</td>\n",
       "      <td>...</td>\n",
       "      <td>...</td>\n",
       "      <td>...</td>\n",
       "      <td>...</td>\n",
       "      <td>...</td>\n",
       "      <td>...</td>\n",
       "      <td>...</td>\n",
       "    </tr>\n",
       "    <tr>\n",
       "      <th>2627418</th>\n",
       "      <td>3360</td>\n",
       "      <td>TARGUS</td>\n",
       "      <td>AMB580TT</td>\n",
       "      <td>9X4546</td>\n",
       "      <td>NaN</td>\n",
       "      <td>B580 BLUETOOTH MOUSE BLCK,</td>\n",
       "      <td>No Stock</td>\n",
       "      <td>0</td>\n",
       "      <td>19.53</td>\n",
       "      <td>2020-08-28</td>\n",
       "    </tr>\n",
       "    <tr>\n",
       "      <th>2627775</th>\n",
       "      <td>505</td>\n",
       "      <td>ENGENIUS</td>\n",
       "      <td>EAP1300</td>\n",
       "      <td>9Z0170</td>\n",
       "      <td>NaN</td>\n",
       "      <td>11AC WAVE 2 INDOOR WRLS AP,</td>\n",
       "      <td>No Stock</td>\n",
       "      <td>0</td>\n",
       "      <td>85.24</td>\n",
       "      <td>2020-08-28</td>\n",
       "    </tr>\n",
       "    <tr>\n",
       "      <th>2627822</th>\n",
       "      <td>9910</td>\n",
       "      <td>KINGSTON</td>\n",
       "      <td>HX-MPFS-SM</td>\n",
       "      <td>9Z6619</td>\n",
       "      <td>NaN</td>\n",
       "      <td>HYPERX FURY S PRO GAMING, MOUSE PAD SMALL</td>\n",
       "      <td>No Stock</td>\n",
       "      <td>0</td>\n",
       "      <td>13.75</td>\n",
       "      <td>2020-08-28</td>\n",
       "    </tr>\n",
       "    <tr>\n",
       "      <th>2627853</th>\n",
       "      <td>291</td>\n",
       "      <td>KINGSTON TECHNOLOGY FLASH</td>\n",
       "      <td>SD10VG2/16GBCP</td>\n",
       "      <td>9Z8507</td>\n",
       "      <td>NaN</td>\n",
       "      <td>BULK 16GB SDHC CLASS 10 UHS-I, 45R MUST ORDER ...</td>\n",
       "      <td>No Stock</td>\n",
       "      <td>0</td>\n",
       "      <td>16.51</td>\n",
       "      <td>2020-08-28</td>\n",
       "    </tr>\n",
       "    <tr>\n",
       "      <th>2627857</th>\n",
       "      <td>291</td>\n",
       "      <td>KINGSTON</td>\n",
       "      <td>IKD300S/4GB</td>\n",
       "      <td>9103LA</td>\n",
       "      <td>NaN</td>\n",
       "      <td>4GB D300S/D300SM AES 256 XTS, ENCRYPTED USB DRIVE</td>\n",
       "      <td>No Stock</td>\n",
       "      <td>0</td>\n",
       "      <td>52.83</td>\n",
       "      <td>2020-08-28</td>\n",
       "    </tr>\n",
       "  </tbody>\n",
       "</table>\n",
       "<p>1914138 rows × 10 columns</p>\n",
       "</div>"
      ],
      "text/plain": [
       "         category                manufacturer     part_number     sku alt_sku  \\\n",
       "0            1539  MS-OPEN VALUE SUBSCRIPTION       021-09108  BA0011     NaN   \n",
       "1            1539  MS-OPEN VALUE SUBSCRIPTION       059-07014  BA0025     NaN   \n",
       "2            1539  MS-OPEN VALUE SUBSCRIPTION       065-06444  BA0039     NaN   \n",
       "3            1539  MS-OPEN VALUE SUBSCRIPTION       076-04355  BA0067     NaN   \n",
       "4            1582  MS-OPEN VALUE SUBSCRIPTION       077-05318  BA0080     NaN   \n",
       "...           ...                         ...             ...     ...     ...   \n",
       "2627418      3360                      TARGUS        AMB580TT  9X4546     NaN   \n",
       "2627775       505                    ENGENIUS         EAP1300  9Z0170     NaN   \n",
       "2627822      9910                    KINGSTON      HX-MPFS-SM  9Z6619     NaN   \n",
       "2627853       291   KINGSTON TECHNOLOGY FLASH  SD10VG2/16GBCP  9Z8507     NaN   \n",
       "2627857       291                    KINGSTON     IKD300S/4GB  9103LA     NaN   \n",
       "\n",
       "                                               description    status  qty  \\\n",
       "0                     1YR OFFICESTD ALNG LICSAPK OLV, D AP  No Stock    0   \n",
       "1                          1YR WORD ALNG LICSAPK OLV D AP,  No Stock    0   \n",
       "2                         1YR EXCEL ALNG LICSAPK OLV D AP,  No Stock    0   \n",
       "3                         1YR PRJCT ALNG LICSAPK OLV D AP,  No Stock    0   \n",
       "4                        1YR ACCESS ALNG LICSAPK OLV D, AP  No Stock    0   \n",
       "...                                                    ...       ...  ...   \n",
       "2627418                         B580 BLUETOOTH MOUSE BLCK,  No Stock    0   \n",
       "2627775                        11AC WAVE 2 INDOOR WRLS AP,  No Stock    0   \n",
       "2627822          HYPERX FURY S PRO GAMING, MOUSE PAD SMALL  No Stock    0   \n",
       "2627853  BULK 16GB SDHC CLASS 10 UHS-I, 45R MUST ORDER ...  No Stock    0   \n",
       "2627857  4GB D300S/D300SM AES 256 XTS, ENCRYPTED USB DRIVE  No Stock    0   \n",
       "\n",
       "          price sku_create_date  \n",
       "0        143.58      2020-08-17  \n",
       "1         56.09      2020-08-17  \n",
       "2         56.09      2020-08-17  \n",
       "3        217.60      2020-08-17  \n",
       "4         56.09      2020-08-17  \n",
       "...         ...             ...  \n",
       "2627418   19.53      2020-08-28  \n",
       "2627775   85.24      2020-08-28  \n",
       "2627822   13.75      2020-08-28  \n",
       "2627853   16.51      2020-08-28  \n",
       "2627857   52.83      2020-08-28  \n",
       "\n",
       "[1914138 rows x 10 columns]"
      ]
     },
     "execution_count": 26,
     "metadata": {},
     "output_type": "execute_result"
    }
   ],
   "source": [
    "NoStock=imus[imus[\"status\"]==\"No Stock\"]\n",
    "NoStock"
   ]
  },
  {
   "cell_type": "markdown",
   "id": "16c3b461",
   "metadata": {},
   "source": [
    "# Q.1. Which are the top manifacturer with price and Quantity?"
   ]
  },
  {
   "cell_type": "code",
   "execution_count": 48,
   "id": "cae9f268",
   "metadata": {},
   "outputs": [
    {
     "data": {
      "text/plain": [
       "manufacturer    ZYXEL -LICENSING\n",
       "price                 84974533.1\n",
       "qty                            0\n",
       "dtype: object"
      ]
     },
     "execution_count": 48,
     "metadata": {},
     "output_type": "execute_result"
    }
   ],
   "source": [
    "Mani1 = pd.DataFrame(NoStock, columns = ['manufacturer', 'price', 'qty'])\n",
    "maxvalue_series = Mani1.max(axis = 0)\n",
    "maxvalue_series"
   ]
  },
  {
   "cell_type": "markdown",
   "id": "cfd79652",
   "metadata": {},
   "source": [
    "# Q.2. Which are the most Profitable products?"
   ]
  },
  {
   "cell_type": "code",
   "execution_count": 30,
   "id": "70f94388",
   "metadata": {},
   "outputs": [
    {
     "data": {
      "text/plain": [
       "count    1.914138e+06\n",
       "mean     2.040982e+03\n",
       "std      2.412605e+03\n",
       "min      1.000000e+00\n",
       "25%      6.610000e+02\n",
       "50%      1.221000e+03\n",
       "75%      2.240000e+03\n",
       "max      9.999000e+03\n",
       "Name: category, dtype: float64"
      ]
     },
     "execution_count": 30,
     "metadata": {},
     "output_type": "execute_result"
    }
   ],
   "source": [
    "NoStock['category'].describe()"
   ]
  },
  {
   "cell_type": "code",
   "execution_count": 31,
   "id": "33950a9f",
   "metadata": {},
   "outputs": [
    {
     "data": {
      "image/png": "[encoded data removed]",
      "text/plain": [
       "<Figure size 360x144 with 1 Axes>"
      ]
     },
     "metadata": {
      "needs_background": "light"
     },
     "output_type": "display_data"
    }
   ],
   "source": [
    "# Setting the figure size\n",
    "plt.figure(figsize=(5, 2))\n",
    "\n",
    "# countplot: Show the counts of observations in each category using bars\n",
    "sns.countplot(x='category', data=NoStock[:10])\n",
    "\n",
    "# Display the figure\n",
    "plt.show()"
   ]
  },
  {
   "cell_type": "markdown",
   "id": "02f827ad",
   "metadata": {},
   "source": [
    "# Q.3.Which is the product where you have seen a decrease in the price?"
   ]
  },
  {
   "cell_type": "code",
   "execution_count": 42,
   "id": "21ae9094",
   "metadata": {},
   "outputs": [
    {
     "data": {
      "text/plain": [
       "category              1\n",
       "manufacturer    22MILES\n",
       "part_number     +APCSMB\n",
       "price               0.0\n",
       "dtype: object"
      ]
     },
     "execution_count": 42,
     "metadata": {},
     "output_type": "execute_result"
    }
   ],
   "source": [
    "Prod1 = pd.DataFrame(NoStock, columns = ['category', 'manufacturer', 'part_number', 'price'])\n",
    "minvalue_series = Prod1.min(axis = 0)\n",
    "minvalue_series"
   ]
  },
  {
   "cell_type": "markdown",
   "id": "21b50a8a",
   "metadata": {},
   "source": [
    "# 4. Which is the product where you have seen an increase in the price?"
   ]
  },
  {
   "cell_type": "code",
   "execution_count": 44,
   "id": "f0cad854",
   "metadata": {},
   "outputs": [
    {
     "data": {
      "text/plain": [
       "category                    9999\n",
       "manufacturer    ZYXEL -LICENSING\n",
       "part_number          ZYWALLVPN50\n",
       "price                 84974533.1\n",
       "dtype: object"
      ]
     },
     "execution_count": 44,
     "metadata": {},
     "output_type": "execute_result"
    }
   ],
   "source": [
    "Prod1 = pd.DataFrame(NoStock, columns = ['category', 'manufacturer', 'part_number', 'price'])\n",
    "maxvalue_series = Prod1.max(axis = 0)\n",
    "maxvalue_series"
   ]
  },
  {
   "cell_type": "markdown",
   "id": "5c58a6f7",
   "metadata": {},
   "source": [
    "# 5.Which is the top category by price and quantity?"
   ]
  },
  {
   "cell_type": "code",
   "execution_count": 51,
   "id": "9b2f3cbb",
   "metadata": {},
   "outputs": [
    {
     "data": {
      "text/plain": [
       "category        9999.0\n",
       "price       84974533.1\n",
       "qty                0.0\n",
       "dtype: float64"
      ]
     },
     "execution_count": 51,
     "metadata": {},
     "output_type": "execute_result"
    }
   ],
   "source": [
    "Cate1 = pd.DataFrame(NoStock, columns = ['category', 'price', 'qty'])\n",
    "maxvalue_series = Cate1.max(axis = 0)\n",
    "maxvalue_series"
   ]
  },
  {
   "cell_type": "markdown",
   "id": "318ae11d",
   "metadata": {},
   "source": [
    "## Conclusion"
   ]
  },
  {
   "cell_type": "markdown",
   "id": "b5053af1",
   "metadata": {},
   "source": [
    "* From Above Information we can conclude ZYXEL are the Top Manufacturer in both case instock as well as Nostock"
   ]
  },
  {
   "cell_type": "code",
   "execution_count": null,
   "id": "30c83bf1",
   "metadata": {},
   "outputs": [],
   "source": []
  }
 ],
 "metadata": {
  "kernelspec": {
   "display_name": "Python 3 (ipykernel)",
   "language": "python",
   "name": "python3"
  },
  "language_info": {
   "codemirror_mode": {
    "name": "ipython",
    "version": 3
   },
   "file_extension": ".py",
   "mimetype": "text/x-python",
   "name": "python",
   "nbconvert_exporter": "python",
   "pygments_lexer": "ipython3",
   "version": "3.9.7"
  }
 },
 "nbformat": 4,
 "nbformat_minor": 5
}
